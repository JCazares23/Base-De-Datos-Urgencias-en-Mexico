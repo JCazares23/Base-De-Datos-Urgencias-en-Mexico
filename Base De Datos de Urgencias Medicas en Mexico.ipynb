{
 "cells": [
  {
   "cell_type": "code",
   "execution_count": 1,
   "id": "90dbf07b",
   "metadata": {},
   "outputs": [],
   "source": [
    "# Por Jose D. Cazares Minjares"
   ]
  },
  {
   "cell_type": "code",
   "execution_count": 2,
   "id": "525fdf66",
   "metadata": {},
   "outputs": [],
   "source": [
    "import pandas as pd\n",
    "import requests\n",
    "import zipfile\n",
    "from io import BytesIO\n",
    "import sqlite3\n",
    "import matplotlib.pyplot as plt\n",
    "import seaborn as sns"
   ]
  },
  {
   "cell_type": "code",
   "execution_count": 43,
   "id": "7379dcb4",
   "metadata": {},
   "outputs": [],
   "source": [
    "# Conexión a la base de datos SQLite\n",
    "conn = sqlite3.connect('urgencias.db')\n",
    "cursor = conn.cursor()\n",
    "\n",
    "# Crear tabla para almacenar los datos de urgencias\n",
    "cursor.execute('''\n",
    "CREATE TABLE IF NOT EXISTS urgencias (\n",
    "    id INTEGER PRIMARY KEY,\n",
    "    fechaingreso TEXT,\n",
    "    hora_ingreso TEXT,\n",
    "    edad INTEGER,\n",
    "    sexo TEXT,\n",
    "    derhab TEXT,\n",
    "    tipourgencia TEXT,\n",
    "    fechaalta TEXT,\n",
    "    hora_alta TEXT,\n",
    "    entresidencia INTEGER\n",
    ")\n",
    "''')\n",
    "\n",
    "conn.commit()"
   ]
  },
  {
   "cell_type": "code",
   "execution_count": 21,
   "id": "f3870166",
   "metadata": {},
   "outputs": [
    {
     "name": "stdout",
     "output_type": "stream",
     "text": [
      "Archivos en el .zip:\n",
      "Registros/Afecciones.txt\n",
      "Registros/Medicamentos.txt\n",
      "Registros/Procedimientos.txt\n",
      "Registros/Urgencias.txt\n"
     ]
    },
    {
     "name": "stderr",
     "output_type": "stream",
     "text": [
      "<ipython-input-21-cacff35beaec>:31: DtypeWarning: Columns (8) have mixed types. Specify dtype option on import or set low_memory=False.\n",
      "  df = pd.read_csv(f, delimiter='|')  # Delimitador cambiado a '|'\n"
     ]
    },
    {
     "name": "stdout",
     "output_type": "stream",
     "text": [
      "Primeras filas del DataFrame después del formato:\n",
      "  fechaingreso hora_ingreso  EDAD    SEXO           DERHAB  \\\n",
      "0   2023-07-12        13:00    46   MUJER           INSABI   \n",
      "1   2023-07-17        21:14    53   MUJER  NO ESPECIFICADO   \n",
      "2   2023-08-06        17:41     6   MUJER          NINGUNA   \n",
      "3   2023-08-14        15:56    62   MUJER             IMSS   \n",
      "4   2023-01-20        14:38     2  HOMBRE          NINGUNA   \n",
      "\n",
      "             TIPOURGENCIA   fechaalta hora_alta  ENTRESIDENCIA  \n",
      "0  URGENCIA NO CALIFICADA  2023-07-12     13:20             26  \n",
      "1  URGENCIA NO CALIFICADA  2023-07-17     22:14             26  \n",
      "2     URGENCIA CALIFICADA  2023-08-06     19:37             26  \n",
      "3     URGENCIA CALIFICADA  2023-08-14     17:15             26  \n",
      "4     URGENCIA CALIFICADA  2023-01-20     15:52             26  \n",
      "Ultimas filas del DataFrame después del formato:\n",
      "       fechaingreso hora_ingreso  EDAD    SEXO           DERHAB  \\\n",
      "193254   2023-04-19        16:00    47   MUJER  NO ESPECIFICADO   \n",
      "193255   2023-04-19        16:00    54  HOMBRE  NO ESPECIFICADO   \n",
      "193256   2023-04-13        08:50    56   MUJER           INSABI   \n",
      "193257   2023-05-07        09:08    21  HOMBRE           INSABI   \n",
      "193258   2023-09-09        16:17    26   MUJER           INSABI   \n",
      "\n",
      "                  TIPOURGENCIA   fechaalta hora_alta  ENTRESIDENCIA  \n",
      "193254     URGENCIA CALIFICADA  2023-04-19     20:00             26  \n",
      "193255     URGENCIA CALIFICADA  2023-04-19     20:30             26  \n",
      "193256  URGENCIA NO CALIFICADA  2023-04-13     09:10             26  \n",
      "193257     URGENCIA CALIFICADA  2023-05-07     11:30             26  \n",
      "193258     URGENCIA CALIFICADA  2023-09-09     17:35             26  \n"
     ]
    }
   ],
   "source": [
    "# URL del archivo .zip en la página web\n",
    "url = 'http://www.dgis.salud.gob.mx/descargas/datosabiertos/urgencias/Urgencias_2023.zip?v=2024.05.06'\n",
    "\n",
    "# Descargar el archivo .zip\n",
    "response = requests.get(url)\n",
    "\n",
    "# Diccionarios de mapeo para las columnas especificadas\n",
    "sexo_mapping = {1: 'HOMBRE', 2: 'MUJER'}\n",
    "derhab_mapping = {\n",
    "    0: 'NO ESPECIFICADO', 1: 'NINGUNA', 2: 'IMSS', 3: 'ISSSTE', 4: 'PEMEX',\n",
    "    5: 'SEDENA', 6: 'SEMAR', 8: 'OTRA', 10: 'IMSS BIENESTAR', 11: 'ISSFAM',\n",
    "    13: 'INSABI', 'G': 'GRATUIDAD'\n",
    "}\n",
    "tipourgencia_mapping = {\n",
    "    1: 'URGENCIA CALIFICADA', 2: 'URGENCIA NO CALIFICADA', 9: 'NO ESPECIFICADO'\n",
    "}\n",
    "\n",
    "# Extraer el contenido del archivo .zip y trabajar con los archivos dentro de él\n",
    "with zipfile.ZipFile(BytesIO(response.content)) as z:\n",
    "    # Obtener la lista de archivos dentro del .zip\n",
    "    file_list = z.namelist()\n",
    "    print(\"Archivos en el .zip:\")\n",
    "    for file_name in file_list:\n",
    "        print(file_name)\n",
    "    \n",
    "    # Suponiendo que el archivo que deseas leer se llama 'Registros/Urgencias.txt'\n",
    "    file_to_read = 'Registros/Urgencias.txt'\n",
    "    if file_to_read in file_list:\n",
    "        with z.open(file_to_read) as f:\n",
    "            # Leer el archivo TXT usando Pandas con el delimitador '|'\n",
    "            df = pd.read_csv(f, delimiter='|')  # Delimitador cambiado a '|'\n",
    "            \n",
    "            # Seleccionar solo las columnas necesarias\n",
    "            df = df[['fechaingreso', 'hora_ingreso', 'EDAD', 'SEXO', 'DERHAB', \n",
    "                     'TIPOURGENCIA', 'fechaalta', 'hora_alta', 'ENTRESIDENCIA']]\n",
    "            \n",
    "            # Mapear los valores de las columnas especificadas\n",
    "            df['SEXO'] = df['SEXO'].map(sexo_mapping)\n",
    "            df['DERHAB'] = df['DERHAB'].map(derhab_mapping)\n",
    "            df['TIPOURGENCIA'] = df['TIPOURGENCIA'].map(tipourgencia_mapping)\n",
    "            \n",
    "            # Filtrar por ENTRESIDENCIA igual a 26\n",
    "            df = df[df['ENTRESIDENCIA'] == 26]\n",
    "            \n",
    "            # Convertir la columna 'fechaingreso' a tipo datetime y establecerla como índice\n",
    "            df['fechaingreso'] = pd.to_datetime(df['fechaingreso'])\n",
    "            df.set_index('fechaingreso', inplace=True)\n",
    "            \n",
    "            # Reiniciar el índice para que la columna 'fechaingreso' permanezca como una columna\n",
    "            df.reset_index(inplace=True)\n",
    "            \n",
    "            # Mostrar las primeras y las ultimas filas del DataFrame después del formato\n",
    "            print(\"Primeras filas del DataFrame después del formato:\")\n",
    "            print(df.head())\n",
    "            print(\"Ultimas filas del DataFrame después del formato:\")\n",
    "            print(df.tail())\n",
    "            \n",
    "            # Insertar los datos en la base de datos SQLite\n",
    "            conn = sqlite3.connect('urgencias.db')\n",
    "            df.to_sql('urgencias', conn, if_exists='append', index=False)\n",
    "            \n",
    "    else:\n",
    "        print(f\"El archivo {file_to_read} no se encuentra en el .zip\")"
   ]
  },
  {
   "cell_type": "code",
   "execution_count": 37,
   "id": "07b980fb",
   "metadata": {},
   "outputs": [
    {
     "name": "stdout",
     "output_type": "stream",
     "text": [
      "     sexo  cantidad\n",
      "0    None       220\n",
      "1  HOMBRE    394875\n",
      "2   MUJER    571200\n"
     ]
    }
   ],
   "source": [
    "query = \"SELECT sexo, COUNT(*) as cantidad FROM urgencias GROUP BY sexo\"\n",
    "df_sexo = pd.read_sql_query(query, conn)\n",
    "print(df_sexo)"
   ]
  },
  {
   "cell_type": "code",
   "execution_count": 38,
   "id": "de5c8513",
   "metadata": {},
   "outputs": [
    {
     "name": "stdout",
     "output_type": "stream",
     "text": [
      "             tipourgencia  edad_promedio\n",
      "0     URGENCIA CALIFICADA      34.861228\n",
      "1  URGENCIA NO CALIFICADA      29.955578\n"
     ]
    }
   ],
   "source": [
    "query = \"SELECT tipourgencia, AVG(edad) as edad_promedio FROM urgencias GROUP BY tipourgencia\"\n",
    "df_edad_promedio = pd.read_sql_query(query, conn)\n",
    "print(df_edad_promedio)"
   ]
  },
  {
   "cell_type": "code",
   "execution_count": 39,
   "id": "4a06cb3f",
   "metadata": {},
   "outputs": [
    {
     "name": "stdout",
     "output_type": "stream",
     "text": [
      "        mes  cantidad\n",
      "0   2022-12       190\n",
      "1   2023-01     69915\n",
      "2   2023-02     64260\n",
      "3   2023-03     77175\n",
      "4   2023-04     71185\n",
      "5   2023-05     81460\n",
      "6   2023-06     83695\n",
      "7   2023-07     85715\n",
      "8   2023-08     86590\n",
      "9   2023-09     91030\n",
      "10  2023-10     86950\n",
      "11  2023-11     84500\n",
      "12  2023-12     83630\n"
     ]
    }
   ],
   "source": [
    "query = \"\"\"\n",
    "SELECT strftime('%Y-%m', fechaingreso) as mes, COUNT(*) as cantidad \n",
    "FROM urgencias \n",
    "GROUP BY mes\n",
    "\"\"\"\n",
    "df_urgencias_mes = pd.read_sql_query(query, conn)\n",
    "print(df_urgencias_mes)"
   ]
  },
  {
   "cell_type": "code",
   "execution_count": 42,
   "id": "553a47d2",
   "metadata": {},
   "outputs": [
    {
     "data": {
      "image/png": "[encoded data removed]",
      "text/plain": [
       "<Figure size 720x432 with 1 Axes>"
      ]
     },
     "metadata": {},
     "output_type": "display_data"
    },
    {
     "data": {
      "image/png": "[encoded data removed]",
      "text/plain": [
       "<Figure size 720x432 with 1 Axes>"
      ]
     },
     "metadata": {},
     "output_type": "display_data"
    },
    {
     "data": {
      "image/png": "[encoded data removed]",
      "text/plain": [
       "<Figure size 864x432 with 1 Axes>"
      ]
     },
     "metadata": {},
     "output_type": "display_data"
    }
   ],
   "source": [
    "import matplotlib.pyplot as plt\n",
    "import seaborn as sns\n",
    "\n",
    "# Configuración de estilo para seaborn\n",
    "sns.set(style=\"whitegrid\")\n",
    "\n",
    "# Gráfico de barras del número de registros por sexo\n",
    "plt.figure(figsize=(10, 6))\n",
    "sns.barplot(x='sexo', y='cantidad', data=df_sexo)\n",
    "plt.title('Número de urgencias dado el sexo')\n",
    "plt.xlabel('Sexo')\n",
    "plt.ylabel('Cantidad')\n",
    "plt.show()\n",
    "\n",
    "# Gráfico de barras de la edad promedio por tipo de urgencia\n",
    "plt.figure(figsize=(10, 6))\n",
    "sns.barplot(x='tipourgencia', y='edad_promedio', data=df_edad_promedio)\n",
    "plt.title('Edad promedio por tipo de urgencia')\n",
    "plt.xlabel('Tipo de Urgencia')\n",
    "plt.ylabel('Edad Promedio')\n",
    "plt.show()\n",
    "\n",
    "# Gráfico de líneas del número de urgencias por mes\n",
    "plt.figure(figsize=(12, 6))\n",
    "sns.lineplot(x='mes', y='cantidad', data=df_urgencias_mes, marker='o')\n",
    "plt.title('Número de urgencias por mes')\n",
    "plt.xlabel('Mes')\n",
    "plt.ylabel('Cantidad')\n",
    "plt.xticks(rotation=45)\n",
    "plt.show()"
   ]
  },
  {
   "cell_type": "code",
   "execution_count": 52,
   "id": "5a7e4a05",
   "metadata": {},
   "outputs": [
    {
     "name": "stdout",
     "output_type": "stream",
     "text": [
      "     sexo            tipourgencia  cantidad\n",
      "0    None     URGENCIA CALIFICADA        65\n",
      "1    None  URGENCIA NO CALIFICADA       155\n",
      "2  HOMBRE     URGENCIA CALIFICADA    130310\n",
      "3  HOMBRE  URGENCIA NO CALIFICADA    264565\n",
      "4   MUJER     URGENCIA CALIFICADA    136610\n",
      "5   MUJER  URGENCIA NO CALIFICADA    434590\n"
     ]
    }
   ],
   "source": [
    "# Definir la consulta SQL\n",
    "query = \"\"\"\n",
    "SELECT SEXO, TIPOURGENCIA, COUNT(*) AS cantidad\n",
    "FROM urgencias\n",
    "GROUP BY SEXO, TIPOURGENCIA;\n",
    "\"\"\"\n",
    "\n",
    "# Ejecutar la consulta y almacenar el resultado en un DataFrame de Pandas\n",
    "result = pd.read_sql_query(query, conn)\n",
    "\n",
    "# Mostrar el resultado\n",
    "print(result)\n",
    "\n",
    "# Cerrar la conexión a la base de datos\n",
    "conn.close()"
   ]
  },
  {
   "cell_type": "code",
   "execution_count": null,
   "id": "65ab6531",
   "metadata": {},
   "outputs": [],
   "source": [
    "# Algo que podemos observar es que las mujer son mas suseptibles a tener una urgencia, y tambien el numero de urgencias no\n",
    "# calificadas es mucho mayor para este genero, podemos intuir que pueden solicitar servicios de emergencias por cuestiones\n",
    "# menores o por que su numero emergencias registrado es mayor la proabiliadad de este suceso es mayor."
   ]
  },
  {
   "cell_type": "code",
   "execution_count": 41,
   "id": "bf341492",
   "metadata": {},
   "outputs": [],
   "source": [
    "#Cierre de la conexión\n",
    "conn.close()"
   ]
  }
 ],
 "metadata": {
  "kernelspec": {
   "display_name": "Python 3",
   "language": "python",
   "name": "python3"
  },
  "language_info": {
   "codemirror_mode": {
    "name": "ipython",
    "version": 3
   },
   "file_extension": ".py",
   "mimetype": "text/x-python",
   "name": "python",
   "nbconvert_exporter": "python",
   "pygments_lexer": "ipython3",
   "version": "3.8.8"
  }
 },
 "nbformat": 4,
 "nbformat_minor": 5
}
